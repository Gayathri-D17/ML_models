{
  "nbformat": 4,
  "nbformat_minor": 0,
  "metadata": {
    "colab": {
      "provenance": []
    },
    "kernelspec": {
      "name": "python3",
      "display_name": "Python 3"
    },
    "language_info": {
      "name": "python"
    }
  },
  "cells": [
    {
      "cell_type": "code",
      "execution_count": null,
      "metadata": {
        "id": "8IU67_77HqSk"
      },
      "outputs": [],
      "source": [
        "import os"
      ]
    },
    {
      "cell_type": "code",
      "source": [
        "# for the operating system operations e.g., creating a folder.\n",
        "import os\n",
        "\n",
        "# Tensorflow and Keras are two packages for creating neural network models.\n",
        "import tensorflow as tf\n",
        "from tensorflow import keras\n",
        "\n",
        "from sklearn.model_selection import train_test_split\n",
        "\n",
        "# Print tensorfow (TF) version. Make sure you have at least tensorflow 2.1.0\n",
        "print(f\"Tensorflow version: {tf.version.VERSION}\")"
      ],
      "metadata": {
        "colab": {
          "base_uri": "https://localhost:8080/"
        },
        "id": "Y9IgTakbH0jx",
        "outputId": "4d6ca17e-add9-4b00-a2de-2fda9ceebd07"
      },
      "execution_count": null,
      "outputs": [
        {
          "output_type": "stream",
          "name": "stdout",
          "text": [
            "Tensorflow version: 2.12.0\n"
          ]
        }
      ]
    },
    {
      "cell_type": "code",
      "source": [
        "# import the dataset.\n",
        "# from tensorflow.keras.datasets import boston_housing\n",
        "\n",
        "# import NN layers and other componenets.\n",
        "from tensorflow.keras.models import Sequential\n",
        "from tensorflow.keras.layers import Activation, Dense, BatchNormalization, Dropout\n",
        "from tensorflow.keras import optimizers"
      ],
      "metadata": {
        "id": "GBp8pF5UH7hg"
      },
      "execution_count": null,
      "outputs": []
    },
    {
      "cell_type": "code",
      "source": [
        "# Tensorflow untils packages.\n",
        "!pip install  tensorflow_docs"
      ],
      "metadata": {
        "colab": {
          "base_uri": "https://localhost:8080/"
        },
        "id": "2lFnjdJVIUJQ",
        "outputId": "b683fa93-ff67-49f1-d20f-a5a28ada5d4c"
      },
      "execution_count": null,
      "outputs": [
        {
          "output_type": "stream",
          "name": "stdout",
          "text": [
            "Looking in indexes: https://pypi.org/simple, https://us-python.pkg.dev/colab-wheels/public/simple/\n",
            "Requirement already satisfied: tensorflow_docs in /usr/local/lib/python3.10/dist-packages (2023.5.24.56664)\n",
            "Requirement already satisfied: absl-py in /usr/local/lib/python3.10/dist-packages (from tensorflow_docs) (1.4.0)\n",
            "Requirement already satisfied: astor in /usr/local/lib/python3.10/dist-packages (from tensorflow_docs) (0.8.1)\n",
            "Requirement already satisfied: jinja2 in /usr/local/lib/python3.10/dist-packages (from tensorflow_docs) (3.1.2)\n",
            "Requirement already satisfied: nbformat in /usr/local/lib/python3.10/dist-packages (from tensorflow_docs) (5.8.0)\n",
            "Requirement already satisfied: protobuf>=3.12 in /usr/local/lib/python3.10/dist-packages (from tensorflow_docs) (3.20.3)\n",
            "Requirement already satisfied: pyyaml in /usr/local/lib/python3.10/dist-packages (from tensorflow_docs) (6.0)\n",
            "Requirement already satisfied: MarkupSafe>=2.0 in /usr/local/lib/python3.10/dist-packages (from jinja2->tensorflow_docs) (2.1.2)\n",
            "Requirement already satisfied: fastjsonschema in /usr/local/lib/python3.10/dist-packages (from nbformat->tensorflow_docs) (2.16.3)\n",
            "Requirement already satisfied: jsonschema>=2.6 in /usr/local/lib/python3.10/dist-packages (from nbformat->tensorflow_docs) (4.3.3)\n",
            "Requirement already satisfied: jupyter-core in /usr/local/lib/python3.10/dist-packages (from nbformat->tensorflow_docs) (5.3.0)\n",
            "Requirement already satisfied: traitlets>=5.1 in /usr/local/lib/python3.10/dist-packages (from nbformat->tensorflow_docs) (5.7.1)\n",
            "Requirement already satisfied: attrs>=17.4.0 in /usr/local/lib/python3.10/dist-packages (from jsonschema>=2.6->nbformat->tensorflow_docs) (23.1.0)\n",
            "Requirement already satisfied: pyrsistent!=0.17.0,!=0.17.1,!=0.17.2,>=0.14.0 in /usr/local/lib/python3.10/dist-packages (from jsonschema>=2.6->nbformat->tensorflow_docs) (0.19.3)\n",
            "Requirement already satisfied: platformdirs>=2.5 in /usr/local/lib/python3.10/dist-packages (from jupyter-core->nbformat->tensorflow_docs) (3.3.0)\n"
          ]
        }
      ]
    },
    {
      "cell_type": "code",
      "source": [
        "import tensorflow_docs as tfdocs\n",
        "import tensorflow_docs.plots\n",
        "import tensorflow_docs.modeling"
      ],
      "metadata": {
        "id": "f__JFqB6KwV6"
      },
      "execution_count": null,
      "outputs": []
    },
    {
      "cell_type": "code",
      "source": [
        "import pathlib # for processing a path e.g., c:\\documents\\files\\test_ds.csv\n",
        "import matplotlib.pyplot as plt # for plotting data and creating different charts.\n",
        "import numpy as np # for math and arrays\n",
        "import pandas as pd # data from for the data.\n",
        "import seaborn as sns # for plotting."
      ],
      "metadata": {
        "id": "pb2ygu8HKyGo"
      },
      "execution_count": null,
      "outputs": []
    },
    {
      "cell_type": "code",
      "source": [
        "tf.random.set_seed(13) # to make sure the experiment is reproducible.\n",
        "tf.debugging.set_log_device_placement(False)"
      ],
      "metadata": {
        "id": "MXoVF6nIK4LI"
      },
      "execution_count": null,
      "outputs": []
    },
    {
      "cell_type": "code",
      "source": [
        "all_ds = pd.read_csv('/content/bioactivity_data_3class_pIC50.csv')"
      ],
      "metadata": {
        "id": "LFQefEgrK8LR"
      },
      "execution_count": null,
      "outputs": []
    },
    {
      "cell_type": "code",
      "source": [
        "all_ds.head()"
      ],
      "metadata": {
        "colab": {
          "base_uri": "https://localhost:8080/",
          "height": 206
        },
        "id": "wCTAWcXeLSM-",
        "outputId": "f7051c7d-137f-4f41-c393-7d83028880e0"
      },
      "execution_count": null,
      "outputs": [
        {
          "output_type": "execute_result",
          "data": {
            "text/plain": [
              "    Unnamed: 0 molecule_chembl_id  \\\n",
              "32          32      CHEMBL3120829   \n",
              "25          25      CHEMBL3120836   \n",
              "46          46      CHEMBL4555310   \n",
              "30          30      CHEMBL3120831   \n",
              "52          52      CHEMBL4471644   \n",
              "\n",
              "                                     canonical_smiles         class       MW  \\\n",
              "32  O=C(CO)[C@H](CCc1ccccc1)NC(=O)[C@@H]1CCCN1C(=O...      inactive  424.497   \n",
              "25  O=C(N[C@H]1CC=CC[C@H]1C(=O)N[C@@H](CCc1ccccc1)...      inactive  450.535   \n",
              "46  COC1=CC(=O)N(C(=O)/C=C/C(C)(C)NC(=O)[C@H](CC(C...      inactive  820.951   \n",
              "30  CC(=O)SCC(=O)[C@H](CCc1ccccc1)NC(=O)[C@@H]1CCC...      inactive  482.602   \n",
              "52             Cc1cc(NC(=O)Cn2nnc(-c3ccc(N)cc3)n2)no1  intermediate  299.294   \n",
              "\n",
              "       LogP  NumHDonors  NumHAcceptors     pIC50  \n",
              "32  2.46660         2.0            5.0  4.301030  \n",
              "25  2.92660         3.0            5.0  4.695079  \n",
              "46  4.71040         5.0            8.0  4.301030  \n",
              "30  3.75400         1.0            6.0  4.439376  \n",
              "52  0.85742         2.0            8.0  5.175874  "
            ],
            "text/html": [
              "\n",
              "  <div id=\"df-15ad644d-30d3-47d7-be79-03b7d7c142fa\">\n",
              "    <div class=\"colab-df-container\">\n",
              "      <div>\n",
              "<style scoped>\n",
              "    .dataframe tbody tr th:only-of-type {\n",
              "        vertical-align: middle;\n",
              "    }\n",
              "\n",
              "    .dataframe tbody tr th {\n",
              "        vertical-align: top;\n",
              "    }\n",
              "\n",
              "    .dataframe thead th {\n",
              "        text-align: right;\n",
              "    }\n",
              "</style>\n",
              "<table border=\"1\" class=\"dataframe\">\n",
              "  <thead>\n",
              "    <tr style=\"text-align: right;\">\n",
              "      <th></th>\n",
              "      <th>Unnamed: 0</th>\n",
              "      <th>molecule_chembl_id</th>\n",
              "      <th>canonical_smiles</th>\n",
              "      <th>class</th>\n",
              "      <th>MW</th>\n",
              "      <th>LogP</th>\n",
              "      <th>NumHDonors</th>\n",
              "      <th>NumHAcceptors</th>\n",
              "      <th>pIC50</th>\n",
              "    </tr>\n",
              "  </thead>\n",
              "  <tbody>\n",
              "    <tr>\n",
              "      <th>32</th>\n",
              "      <td>32</td>\n",
              "      <td>CHEMBL3120829</td>\n",
              "      <td>O=C(CO)[C@H](CCc1ccccc1)NC(=O)[C@@H]1CCCN1C(=O...</td>\n",
              "      <td>inactive</td>\n",
              "      <td>424.497</td>\n",
              "      <td>2.46660</td>\n",
              "      <td>2.0</td>\n",
              "      <td>5.0</td>\n",
              "      <td>4.301030</td>\n",
              "    </tr>\n",
              "    <tr>\n",
              "      <th>25</th>\n",
              "      <td>25</td>\n",
              "      <td>CHEMBL3120836</td>\n",
              "      <td>O=C(N[C@H]1CC=CC[C@H]1C(=O)N[C@@H](CCc1ccccc1)...</td>\n",
              "      <td>inactive</td>\n",
              "      <td>450.535</td>\n",
              "      <td>2.92660</td>\n",
              "      <td>3.0</td>\n",
              "      <td>5.0</td>\n",
              "      <td>4.695079</td>\n",
              "    </tr>\n",
              "    <tr>\n",
              "      <th>46</th>\n",
              "      <td>46</td>\n",
              "      <td>CHEMBL4555310</td>\n",
              "      <td>COC1=CC(=O)N(C(=O)/C=C/C(C)(C)NC(=O)[C@H](CC(C...</td>\n",
              "      <td>inactive</td>\n",
              "      <td>820.951</td>\n",
              "      <td>4.71040</td>\n",
              "      <td>5.0</td>\n",
              "      <td>8.0</td>\n",
              "      <td>4.301030</td>\n",
              "    </tr>\n",
              "    <tr>\n",
              "      <th>30</th>\n",
              "      <td>30</td>\n",
              "      <td>CHEMBL3120831</td>\n",
              "      <td>CC(=O)SCC(=O)[C@H](CCc1ccccc1)NC(=O)[C@@H]1CCC...</td>\n",
              "      <td>inactive</td>\n",
              "      <td>482.602</td>\n",
              "      <td>3.75400</td>\n",
              "      <td>1.0</td>\n",
              "      <td>6.0</td>\n",
              "      <td>4.439376</td>\n",
              "    </tr>\n",
              "    <tr>\n",
              "      <th>52</th>\n",
              "      <td>52</td>\n",
              "      <td>CHEMBL4471644</td>\n",
              "      <td>Cc1cc(NC(=O)Cn2nnc(-c3ccc(N)cc3)n2)no1</td>\n",
              "      <td>intermediate</td>\n",
              "      <td>299.294</td>\n",
              "      <td>0.85742</td>\n",
              "      <td>2.0</td>\n",
              "      <td>8.0</td>\n",
              "      <td>5.175874</td>\n",
              "    </tr>\n",
              "  </tbody>\n",
              "</table>\n",
              "</div>\n",
              "      <button class=\"colab-df-convert\" onclick=\"convertToInteractive('df-15ad644d-30d3-47d7-be79-03b7d7c142fa')\"\n",
              "              title=\"Convert this dataframe to an interactive table.\"\n",
              "              style=\"display:none;\">\n",
              "        \n",
              "  <svg xmlns=\"http://www.w3.org/2000/svg\" height=\"24px\"viewBox=\"0 0 24 24\"\n",
              "       width=\"24px\">\n",
              "    <path d=\"M0 0h24v24H0V0z\" fill=\"none\"/>\n",
              "    <path d=\"M18.56 5.44l.94 2.06.94-2.06 2.06-.94-2.06-.94-.94-2.06-.94 2.06-2.06.94zm-11 1L8.5 8.5l.94-2.06 2.06-.94-2.06-.94L8.5 2.5l-.94 2.06-2.06.94zm10 10l.94 2.06.94-2.06 2.06-.94-2.06-.94-.94-2.06-.94 2.06-2.06.94z\"/><path d=\"M17.41 7.96l-1.37-1.37c-.4-.4-.92-.59-1.43-.59-.52 0-1.04.2-1.43.59L10.3 9.45l-7.72 7.72c-.78.78-.78 2.05 0 2.83L4 21.41c.39.39.9.59 1.41.59.51 0 1.02-.2 1.41-.59l7.78-7.78 2.81-2.81c.8-.78.8-2.07 0-2.86zM5.41 20L4 18.59l7.72-7.72 1.47 1.35L5.41 20z\"/>\n",
              "  </svg>\n",
              "      </button>\n",
              "      \n",
              "  <style>\n",
              "    .colab-df-container {\n",
              "      display:flex;\n",
              "      flex-wrap:wrap;\n",
              "      gap: 12px;\n",
              "    }\n",
              "\n",
              "    .colab-df-convert {\n",
              "      background-color: #E8F0FE;\n",
              "      border: none;\n",
              "      border-radius: 50%;\n",
              "      cursor: pointer;\n",
              "      display: none;\n",
              "      fill: #1967D2;\n",
              "      height: 32px;\n",
              "      padding: 0 0 0 0;\n",
              "      width: 32px;\n",
              "    }\n",
              "\n",
              "    .colab-df-convert:hover {\n",
              "      background-color: #E2EBFA;\n",
              "      box-shadow: 0px 1px 2px rgba(60, 64, 67, 0.3), 0px 1px 3px 1px rgba(60, 64, 67, 0.15);\n",
              "      fill: #174EA6;\n",
              "    }\n",
              "\n",
              "    [theme=dark] .colab-df-convert {\n",
              "      background-color: #3B4455;\n",
              "      fill: #D2E3FC;\n",
              "    }\n",
              "\n",
              "    [theme=dark] .colab-df-convert:hover {\n",
              "      background-color: #434B5C;\n",
              "      box-shadow: 0px 1px 3px 1px rgba(0, 0, 0, 0.15);\n",
              "      filter: drop-shadow(0px 1px 2px rgba(0, 0, 0, 0.3));\n",
              "      fill: #FFFFFF;\n",
              "    }\n",
              "  </style>\n",
              "\n",
              "      <script>\n",
              "        const buttonEl =\n",
              "          document.querySelector('#df-15ad644d-30d3-47d7-be79-03b7d7c142fa button.colab-df-convert');\n",
              "        buttonEl.style.display =\n",
              "          google.colab.kernel.accessAllowed ? 'block' : 'none';\n",
              "\n",
              "        async function convertToInteractive(key) {\n",
              "          const element = document.querySelector('#df-15ad644d-30d3-47d7-be79-03b7d7c142fa');\n",
              "          const dataTable =\n",
              "            await google.colab.kernel.invokeFunction('convertToInteractive',\n",
              "                                                     [key], {});\n",
              "          if (!dataTable) return;\n",
              "\n",
              "          const docLinkHtml = 'Like what you see? Visit the ' +\n",
              "            '<a target=\"_blank\" href=https://colab.research.google.com/notebooks/data_table.ipynb>data table notebook</a>'\n",
              "            + ' to learn more about interactive tables.';\n",
              "          element.innerHTML = '';\n",
              "          dataTable['output_type'] = 'display_data';\n",
              "          await google.colab.output.renderOutput(dataTable, element);\n",
              "          const docLink = document.createElement('div');\n",
              "          docLink.innerHTML = docLinkHtml;\n",
              "          element.appendChild(docLink);\n",
              "        }\n",
              "      </script>\n",
              "    </div>\n",
              "  </div>\n",
              "  "
            ]
          },
          "metadata": {},
          "execution_count": 127
        }
      ]
    },
    {
      "cell_type": "code",
      "source": [
        "print(f'Number of rows/examples and columns in the dataset: {all_ds.shape}')"
      ],
      "metadata": {
        "colab": {
          "base_uri": "https://localhost:8080/"
        },
        "id": "ATge1GX5Nf9I",
        "outputId": "84d8e9e1-f66d-40a9-ec72-6faf07b9bc5d"
      },
      "execution_count": null,
      "outputs": [
        {
          "output_type": "stream",
          "name": "stdout",
          "text": [
            "Number of rows/examples and columns in the dataset: (65, 9)\n"
          ]
        }
      ]
    },
    {
      "cell_type": "code",
      "source": [
        "columns_to_drop = [\"class\", \"canonical_smiles\", \"molecule_chembl_id\", \"Unnamed: 0\"]\n",
        "all_ds1 = all_ds.drop(columns_to_drop, axis=1)"
      ],
      "metadata": {
        "id": "xns0tCpi5gZy"
      },
      "execution_count": null,
      "outputs": []
    },
    {
      "cell_type": "code",
      "source": [
        "all_ds1"
      ],
      "metadata": {
        "colab": {
          "base_uri": "https://localhost:8080/",
          "height": 424
        },
        "id": "sAdJAHf85qXh",
        "outputId": "e59f926c-96a4-4481-e9dc-5ffed2d9dca8"
      },
      "execution_count": null,
      "outputs": [
        {
          "output_type": "execute_result",
          "data": {
            "text/plain": [
              "         MW     LogP  NumHDonors  NumHAcceptors     pIC50\n",
              "32  424.497  2.46660         2.0            5.0  4.301030\n",
              "25  450.535  2.92660         3.0            5.0  4.695079\n",
              "46  820.951  4.71040         5.0            8.0  4.301030\n",
              "30  482.602  3.75400         1.0            6.0  4.439376\n",
              "52  299.294  0.85742         2.0            8.0  5.175874\n",
              "..      ...      ...         ...            ...       ...\n",
              "19  470.591  2.85760         3.0            6.0  5.085128\n",
              "50  897.049  5.93320         5.0            8.0  6.950782\n",
              "51  357.411 -1.46090         5.0            5.0  6.866461\n",
              "0   426.562  0.01507         6.0            5.0  7.060481\n",
              "57  414.425  2.87890         1.0            8.0  5.175874\n",
              "\n",
              "[65 rows x 5 columns]"
            ],
            "text/html": [
              "\n",
              "  <div id=\"df-7f2816c5-f8fb-4ff1-8eaa-da2914fab3b6\">\n",
              "    <div class=\"colab-df-container\">\n",
              "      <div>\n",
              "<style scoped>\n",
              "    .dataframe tbody tr th:only-of-type {\n",
              "        vertical-align: middle;\n",
              "    }\n",
              "\n",
              "    .dataframe tbody tr th {\n",
              "        vertical-align: top;\n",
              "    }\n",
              "\n",
              "    .dataframe thead th {\n",
              "        text-align: right;\n",
              "    }\n",
              "</style>\n",
              "<table border=\"1\" class=\"dataframe\">\n",
              "  <thead>\n",
              "    <tr style=\"text-align: right;\">\n",
              "      <th></th>\n",
              "      <th>MW</th>\n",
              "      <th>LogP</th>\n",
              "      <th>NumHDonors</th>\n",
              "      <th>NumHAcceptors</th>\n",
              "      <th>pIC50</th>\n",
              "    </tr>\n",
              "  </thead>\n",
              "  <tbody>\n",
              "    <tr>\n",
              "      <th>32</th>\n",
              "      <td>424.497</td>\n",
              "      <td>2.46660</td>\n",
              "      <td>2.0</td>\n",
              "      <td>5.0</td>\n",
              "      <td>4.301030</td>\n",
              "    </tr>\n",
              "    <tr>\n",
              "      <th>25</th>\n",
              "      <td>450.535</td>\n",
              "      <td>2.92660</td>\n",
              "      <td>3.0</td>\n",
              "      <td>5.0</td>\n",
              "      <td>4.695079</td>\n",
              "    </tr>\n",
              "    <tr>\n",
              "      <th>46</th>\n",
              "      <td>820.951</td>\n",
              "      <td>4.71040</td>\n",
              "      <td>5.0</td>\n",
              "      <td>8.0</td>\n",
              "      <td>4.301030</td>\n",
              "    </tr>\n",
              "    <tr>\n",
              "      <th>30</th>\n",
              "      <td>482.602</td>\n",
              "      <td>3.75400</td>\n",
              "      <td>1.0</td>\n",
              "      <td>6.0</td>\n",
              "      <td>4.439376</td>\n",
              "    </tr>\n",
              "    <tr>\n",
              "      <th>52</th>\n",
              "      <td>299.294</td>\n",
              "      <td>0.85742</td>\n",
              "      <td>2.0</td>\n",
              "      <td>8.0</td>\n",
              "      <td>5.175874</td>\n",
              "    </tr>\n",
              "    <tr>\n",
              "      <th>...</th>\n",
              "      <td>...</td>\n",
              "      <td>...</td>\n",
              "      <td>...</td>\n",
              "      <td>...</td>\n",
              "      <td>...</td>\n",
              "    </tr>\n",
              "    <tr>\n",
              "      <th>19</th>\n",
              "      <td>470.591</td>\n",
              "      <td>2.85760</td>\n",
              "      <td>3.0</td>\n",
              "      <td>6.0</td>\n",
              "      <td>5.085128</td>\n",
              "    </tr>\n",
              "    <tr>\n",
              "      <th>50</th>\n",
              "      <td>897.049</td>\n",
              "      <td>5.93320</td>\n",
              "      <td>5.0</td>\n",
              "      <td>8.0</td>\n",
              "      <td>6.950782</td>\n",
              "    </tr>\n",
              "    <tr>\n",
              "      <th>51</th>\n",
              "      <td>357.411</td>\n",
              "      <td>-1.46090</td>\n",
              "      <td>5.0</td>\n",
              "      <td>5.0</td>\n",
              "      <td>6.866461</td>\n",
              "    </tr>\n",
              "    <tr>\n",
              "      <th>0</th>\n",
              "      <td>426.562</td>\n",
              "      <td>0.01507</td>\n",
              "      <td>6.0</td>\n",
              "      <td>5.0</td>\n",
              "      <td>7.060481</td>\n",
              "    </tr>\n",
              "    <tr>\n",
              "      <th>57</th>\n",
              "      <td>414.425</td>\n",
              "      <td>2.87890</td>\n",
              "      <td>1.0</td>\n",
              "      <td>8.0</td>\n",
              "      <td>5.175874</td>\n",
              "    </tr>\n",
              "  </tbody>\n",
              "</table>\n",
              "<p>65 rows × 5 columns</p>\n",
              "</div>\n",
              "      <button class=\"colab-df-convert\" onclick=\"convertToInteractive('df-7f2816c5-f8fb-4ff1-8eaa-da2914fab3b6')\"\n",
              "              title=\"Convert this dataframe to an interactive table.\"\n",
              "              style=\"display:none;\">\n",
              "        \n",
              "  <svg xmlns=\"http://www.w3.org/2000/svg\" height=\"24px\"viewBox=\"0 0 24 24\"\n",
              "       width=\"24px\">\n",
              "    <path d=\"M0 0h24v24H0V0z\" fill=\"none\"/>\n",
              "    <path d=\"M18.56 5.44l.94 2.06.94-2.06 2.06-.94-2.06-.94-.94-2.06-.94 2.06-2.06.94zm-11 1L8.5 8.5l.94-2.06 2.06-.94-2.06-.94L8.5 2.5l-.94 2.06-2.06.94zm10 10l.94 2.06.94-2.06 2.06-.94-2.06-.94-.94-2.06-.94 2.06-2.06.94z\"/><path d=\"M17.41 7.96l-1.37-1.37c-.4-.4-.92-.59-1.43-.59-.52 0-1.04.2-1.43.59L10.3 9.45l-7.72 7.72c-.78.78-.78 2.05 0 2.83L4 21.41c.39.39.9.59 1.41.59.51 0 1.02-.2 1.41-.59l7.78-7.78 2.81-2.81c.8-.78.8-2.07 0-2.86zM5.41 20L4 18.59l7.72-7.72 1.47 1.35L5.41 20z\"/>\n",
              "  </svg>\n",
              "      </button>\n",
              "      \n",
              "  <style>\n",
              "    .colab-df-container {\n",
              "      display:flex;\n",
              "      flex-wrap:wrap;\n",
              "      gap: 12px;\n",
              "    }\n",
              "\n",
              "    .colab-df-convert {\n",
              "      background-color: #E8F0FE;\n",
              "      border: none;\n",
              "      border-radius: 50%;\n",
              "      cursor: pointer;\n",
              "      display: none;\n",
              "      fill: #1967D2;\n",
              "      height: 32px;\n",
              "      padding: 0 0 0 0;\n",
              "      width: 32px;\n",
              "    }\n",
              "\n",
              "    .colab-df-convert:hover {\n",
              "      background-color: #E2EBFA;\n",
              "      box-shadow: 0px 1px 2px rgba(60, 64, 67, 0.3), 0px 1px 3px 1px rgba(60, 64, 67, 0.15);\n",
              "      fill: #174EA6;\n",
              "    }\n",
              "\n",
              "    [theme=dark] .colab-df-convert {\n",
              "      background-color: #3B4455;\n",
              "      fill: #D2E3FC;\n",
              "    }\n",
              "\n",
              "    [theme=dark] .colab-df-convert:hover {\n",
              "      background-color: #434B5C;\n",
              "      box-shadow: 0px 1px 3px 1px rgba(0, 0, 0, 0.15);\n",
              "      filter: drop-shadow(0px 1px 2px rgba(0, 0, 0, 0.3));\n",
              "      fill: #FFFFFF;\n",
              "    }\n",
              "  </style>\n",
              "\n",
              "      <script>\n",
              "        const buttonEl =\n",
              "          document.querySelector('#df-7f2816c5-f8fb-4ff1-8eaa-da2914fab3b6 button.colab-df-convert');\n",
              "        buttonEl.style.display =\n",
              "          google.colab.kernel.accessAllowed ? 'block' : 'none';\n",
              "\n",
              "        async function convertToInteractive(key) {\n",
              "          const element = document.querySelector('#df-7f2816c5-f8fb-4ff1-8eaa-da2914fab3b6');\n",
              "          const dataTable =\n",
              "            await google.colab.kernel.invokeFunction('convertToInteractive',\n",
              "                                                     [key], {});\n",
              "          if (!dataTable) return;\n",
              "\n",
              "          const docLinkHtml = 'Like what you see? Visit the ' +\n",
              "            '<a target=\"_blank\" href=https://colab.research.google.com/notebooks/data_table.ipynb>data table notebook</a>'\n",
              "            + ' to learn more about interactive tables.';\n",
              "          element.innerHTML = '';\n",
              "          dataTable['output_type'] = 'display_data';\n",
              "          await google.colab.output.renderOutput(dataTable, element);\n",
              "          const docLink = document.createElement('div');\n",
              "          docLink.innerHTML = docLinkHtml;\n",
              "          element.appendChild(docLink);\n",
              "        }\n",
              "      </script>\n",
              "    </div>\n",
              "  </div>\n",
              "  "
            ]
          },
          "metadata": {},
          "execution_count": 134
        }
      ]
    },
    {
      "cell_type": "code",
      "source": [
        "# Summary of information on the dataset.\n",
        "all_ds1.info()"
      ],
      "metadata": {
        "colab": {
          "base_uri": "https://localhost:8080/"
        },
        "id": "SssjpjFsNsl4",
        "outputId": "25c43e8d-f712-4482-ff47-a8598b6c5e71"
      },
      "execution_count": null,
      "outputs": [
        {
          "output_type": "stream",
          "name": "stdout",
          "text": [
            "<class 'pandas.core.frame.DataFrame'>\n",
            "Int64Index: 65 entries, 32 to 57\n",
            "Data columns (total 5 columns):\n",
            " #   Column         Non-Null Count  Dtype  \n",
            "---  ------         --------------  -----  \n",
            " 0   MW             65 non-null     float64\n",
            " 1   LogP           65 non-null     float64\n",
            " 2   NumHDonors     65 non-null     float64\n",
            " 3   NumHAcceptors  65 non-null     float64\n",
            " 4   pIC50          65 non-null     float64\n",
            "dtypes: float64(5)\n",
            "memory usage: 3.0 KB\n"
          ]
        }
      ]
    },
    {
      "cell_type": "markdown",
      "source": [
        "# Cleaning the data."
      ],
      "metadata": {
        "id": "XhTwhlzBN1AW"
      }
    },
    {
      "cell_type": "code",
      "source": [
        "print(\"Display NA values in each columns: \")\n",
        "all_ds1.isna().sum(axis=0)"
      ],
      "metadata": {
        "colab": {
          "base_uri": "https://localhost:8080/"
        },
        "id": "o1uA1hgINyVO",
        "outputId": "cac921a4-6e93-43da-eb74-ec324c6f997e"
      },
      "execution_count": null,
      "outputs": [
        {
          "output_type": "stream",
          "name": "stdout",
          "text": [
            "Display NA values in each columns: \n"
          ]
        },
        {
          "output_type": "execute_result",
          "data": {
            "text/plain": [
              "MW               0\n",
              "LogP             0\n",
              "NumHDonors       0\n",
              "NumHAcceptors    0\n",
              "pIC50            0\n",
              "dtype: int64"
            ]
          },
          "metadata": {},
          "execution_count": 142
        }
      ]
    },
    {
      "cell_type": "code",
      "source": [
        "print(\"Display NA values in each row: \")\n",
        "all_ds1.isna().sum(axis=1)"
      ],
      "metadata": {
        "colab": {
          "base_uri": "https://localhost:8080/"
        },
        "id": "GUjNiniaN61-",
        "outputId": "84ae11ec-3f4a-4f1c-9ed5-02dcd1440e70"
      },
      "execution_count": null,
      "outputs": [
        {
          "output_type": "stream",
          "name": "stdout",
          "text": [
            "Display NA values in each row: \n"
          ]
        },
        {
          "output_type": "execute_result",
          "data": {
            "text/plain": [
              "32    0\n",
              "25    0\n",
              "46    0\n",
              "30    0\n",
              "52    0\n",
              "     ..\n",
              "19    0\n",
              "50    0\n",
              "51    0\n",
              "0     0\n",
              "57    0\n",
              "Length: 65, dtype: int64"
            ]
          },
          "metadata": {},
          "execution_count": 143
        }
      ]
    },
    {
      "cell_type": "code",
      "source": [
        "print(\"Display NULL values in each columns: \")\n",
        "all_ds1.isnull().sum()"
      ],
      "metadata": {
        "colab": {
          "base_uri": "https://localhost:8080/"
        },
        "id": "aifi6FNXOBHo",
        "outputId": "0e491e69-7cef-4b4c-cf35-df5566d8c183"
      },
      "execution_count": null,
      "outputs": [
        {
          "output_type": "stream",
          "name": "stdout",
          "text": [
            "Display NULL values in each columns: \n"
          ]
        },
        {
          "output_type": "execute_result",
          "data": {
            "text/plain": [
              "MW               0\n",
              "LogP             0\n",
              "NumHDonors       0\n",
              "NumHAcceptors    0\n",
              "pIC50            0\n",
              "dtype: int64"
            ]
          },
          "metadata": {},
          "execution_count": 144
        }
      ]
    },
    {
      "cell_type": "code",
      "source": [
        "print(\"Display NULL values in each row: \")\n",
        "all_ds1.isnull().sum(1)"
      ],
      "metadata": {
        "colab": {
          "base_uri": "https://localhost:8080/"
        },
        "id": "R8j79LjeOIvY",
        "outputId": "284dbe9a-8ff6-414e-e1cc-543396818610"
      },
      "execution_count": null,
      "outputs": [
        {
          "output_type": "stream",
          "name": "stdout",
          "text": [
            "Display NULL values in each row: \n"
          ]
        },
        {
          "output_type": "execute_result",
          "data": {
            "text/plain": [
              "32    0\n",
              "25    0\n",
              "46    0\n",
              "30    0\n",
              "52    0\n",
              "     ..\n",
              "19    0\n",
              "50    0\n",
              "51    0\n",
              "0     0\n",
              "57    0\n",
              "Length: 65, dtype: int64"
            ]
          },
          "metadata": {},
          "execution_count": 145
        }
      ]
    },
    {
      "cell_type": "code",
      "source": [
        "# Remove the rows with NA values.\n",
        "all_ds1 = all_ds1.dropna()\n",
        "\n",
        "# You can also use the following line to fill the NA with Zeros.\n",
        "# all_ds = all_ds.fillna(0)\n",
        "# all_ds = all_ds.fillna(mean_of_column)"
      ],
      "metadata": {
        "id": "5oZNjMb2OKcA"
      },
      "execution_count": null,
      "outputs": []
    },
    {
      "cell_type": "code",
      "source": [
        "# slice the data set and keep last n rows of the dataset.  E.g., you want to save the last 20 rows from the dataset into a new dataset.\n",
        "n = 65\n",
        "temp_ds = all_ds1[:n]\n",
        "temp_ds.shape"
      ],
      "metadata": {
        "colab": {
          "base_uri": "https://localhost:8080/"
        },
        "id": "QvyFmUXHOOag",
        "outputId": "ca9d30bf-436d-40ec-cdc0-f7a16b05e38c"
      },
      "execution_count": null,
      "outputs": [
        {
          "output_type": "execute_result",
          "data": {
            "text/plain": [
              "(65, 5)"
            ]
          },
          "metadata": {},
          "execution_count": 147
        }
      ]
    },
    {
      "cell_type": "markdown",
      "source": [
        "# Sample the dataset randomly and return fraction (e.g., frac=50% will return 50% of the data) from the dataset."
      ],
      "metadata": {
        "id": "uqXcFDTHOfoQ"
      }
    },
    {
      "cell_type": "code",
      "source": [
        "# all_ds[10:]\n",
        "# all_ds.sample(frac=1) # this will shuffle all of the dataset and randomly re-organize the rows.\n",
        "\n",
        "all_ds1 = all_ds1.sample(frac=1) # This will randomly shuffle the rows to make sure the data is not sorted. (if the data is sorted then we may end up with test dataset from one or two classes only)\n",
        "all_ds1_90pct = all_ds1.sample(frac=0.9) # randomly sample the dataset and keep 90% of the rows.\n",
        "all_ds1_90pct.shape"
      ],
      "metadata": {
        "colab": {
          "base_uri": "https://localhost:8080/"
        },
        "id": "qIaqhOviOd2g",
        "outputId": "7b27bd37-f992-45b2-ba3b-31cb92174dfe"
      },
      "execution_count": null,
      "outputs": [
        {
          "output_type": "execute_result",
          "data": {
            "text/plain": [
              "(58, 5)"
            ]
          },
          "metadata": {},
          "execution_count": 227
        }
      ]
    },
    {
      "cell_type": "markdown",
      "source": [
        "# Split the data into train/test splits."
      ],
      "metadata": {
        "id": "jXM3nzVPOttc"
      }
    },
    {
      "cell_type": "code",
      "source": [
        "# THis is an alternative method to split the data and replace train_test_split.\n",
        "# train_dataset = all_ds_90pct.sample(frac=0.6) # This will select 80\n",
        "# test_dataset = all_ds_90pct.drop(train_dataset.index)"
      ],
      "metadata": {
        "id": "HsCp8LhuOpiA"
      },
      "execution_count": null,
      "outputs": []
    },
    {
      "cell_type": "code",
      "source": [
        "# Split the data into 60% train and 40% test (later will divide the test to test and validate.)\n",
        "train_dataset, temp_test_dataset =  train_test_split(all_ds1_90pct, test_size=0.4)\n",
        "\n",
        "print( train_dataset.shape )\n",
        "print( temp_test_dataset.shape )"
      ],
      "metadata": {
        "colab": {
          "base_uri": "https://localhost:8080/"
        },
        "id": "LUaNCxHvOmDI",
        "outputId": "ef6ead6c-478e-4d2e-be99-971cc87cc82e"
      },
      "execution_count": null,
      "outputs": [
        {
          "output_type": "stream",
          "name": "stdout",
          "text": [
            "(34, 5)\n",
            "(24, 5)\n"
          ]
        }
      ]
    },
    {
      "cell_type": "code",
      "source": [
        "train_dataset=train_dataset.drop(\"pIC50\",axis=1)"
      ],
      "metadata": {
        "id": "5OYgYH1pHoha"
      },
      "execution_count": null,
      "outputs": []
    },
    {
      "cell_type": "code",
      "source": [
        "train_dataset"
      ],
      "metadata": {
        "id": "_xwxx0MhJQgi"
      },
      "execution_count": null,
      "outputs": []
    },
    {
      "cell_type": "code",
      "source": [
        "colomns_drop=[\"MW\",\"LogP\",\"NumHDonors\",\"NumHAcceptors\"]\n",
        "temp_test_dataset=temp_test_dataset.drop(colomns_drop,axis=1)"
      ],
      "metadata": {
        "id": "QqkbuHKsIrzB"
      },
      "execution_count": null,
      "outputs": []
    },
    {
      "cell_type": "code",
      "source": [
        "temp_test_dataset"
      ],
      "metadata": {
        "id": "OE7LGPWUKMNi"
      },
      "execution_count": null,
      "outputs": []
    },
    {
      "cell_type": "code",
      "source": [
        "# Split the test_dataset dataframe to 50% test and 50% validation. [this will divide the dataset into 60% train, 20% validate, and 20% test]\n",
        "test_dataset, valid_dataset =  train_test_split(temp_test_dataset, test_size=0.5)\n",
        "print( test_dataset.shape )\n",
        "print( valid_dataset.shape )"
      ],
      "metadata": {
        "colab": {
          "base_uri": "https://localhost:8080/"
        },
        "id": "ym2iBc7JO9cA",
        "outputId": "81e09c8a-c2fd-41fb-e3d7-f75397bf8515"
      },
      "execution_count": null,
      "outputs": [
        {
          "output_type": "stream",
          "name": "stdout",
          "text": [
            "(12, 1)\n",
            "(12, 1)\n"
          ]
        }
      ]
    },
    {
      "cell_type": "code",
      "source": [
        "print(f\"Display the datatype of the test_dataset: {type(test_dataset)}\")\n",
        "print(f\" Train dataset       : {train_dataset.shape}\")\n",
        "print(f\" Test dataset       : {test_dataset.shape}\")\n",
        "print(f\" Validation dataset : {valid_dataset.shape}\")"
      ],
      "metadata": {
        "colab": {
          "base_uri": "https://localhost:8080/"
        },
        "id": "Kidb2gQAPG2w",
        "outputId": "cc4dfe7f-cb0a-4ba5-91e5-ba39246e2e13"
      },
      "execution_count": null,
      "outputs": [
        {
          "output_type": "stream",
          "name": "stdout",
          "text": [
            "Display the datatype of the test_dataset: <class 'pandas.core.frame.DataFrame'>\n",
            " Train dataset       : (34, 4)\n",
            " Test dataset       : (12, 1)\n",
            " Validation dataset : (12, 1)\n"
          ]
        }
      ]
    },
    {
      "cell_type": "code",
      "source": [
        "# Plot the relationship between each two variables to spot anything incorrect.\n",
        "#train_stats = train_dataset.describe()\n",
        "#train_stats.pop(\"pIC50\")\n",
        "#sns.pairplot(train_stats[train_stats.columns], diag_kind=\"kde\") # or diag_kind='reg'"
      ],
      "metadata": {
        "id": "IhpkfespSGvP"
      },
      "execution_count": null,
      "outputs": []
    },
    {
      "cell_type": "code",
      "source": [
        "# Statistics on the train dataset to make sure it is in a good shape. (you may display the same stat for test and validate)\n",
        "#train_stats = train_dataset.describe()\n",
        "#train_stats.pop(\"pIC50\")\n",
        "#train_stats = train_stats.transpose()\n",
        "#train_stats"
      ],
      "metadata": {
        "id": "JLcfqFIPSjAI"
      },
      "execution_count": null,
      "outputs": []
    },
    {
      "cell_type": "markdown",
      "source": [
        "# The label is \"Median Value\" of the house. We will remove them from each dataset split (train, test, validate) and save them into new variables.\n",
        "Note: we maintain the order of the labels and data from now on to make sure each example/row is associated with the right label."
      ],
      "metadata": {
        "id": "l3zUv8wOUehA"
      }
    },
    {
      "cell_type": "code",
      "source": [
        "#train_labels = train_dataset.pop('pIC50')\n",
        "#test_labels = test_dataset.pop('pIC50')\n",
        "#valid_labels = valid_dataset.pop('pIC50')"
      ],
      "metadata": {
        "id": "FfkintaaUj9Q"
      },
      "execution_count": null,
      "outputs": []
    },
    {
      "cell_type": "markdown",
      "source": [
        "# Data Normalization/Scaling\n",
        "Subtract the mean of the training data and divide by the standard deviation of the training data."
      ],
      "metadata": {
        "id": "6KnPVqefU2PI"
      }
    },
    {
      "cell_type": "code",
      "source": [
        "# define a function to normalize the data set.\n",
        "#def norm(x):\n",
        "    #return (x - train_stats['mean']) / train_stats['std']\n",
        "#normed_train_data = norm(train_dataset)\n",
        "#normed_test_data = norm(test_dataset)\n",
        "#normed_valid_dataset = norm(valid_dataset)"
      ],
      "metadata": {
        "id": "Q0D_6Hb5U6ES"
      },
      "execution_count": null,
      "outputs": []
    },
    {
      "cell_type": "code",
      "source": [
        "print(r'Train/Test/Validate splits: ')\n",
        "print(f'Train    : {normed_train_data.shape} ')\n",
        "print(f'Test     : {normed_test_data.shape} ')\n",
        "print(f'Validate : {normed_valid_dataset.shape} ')\n",
        "\n",
        "print(r'Train/Test/Validate labels: ')\n",
        "print(f'Train Labels : {train_labels.shape} ')\n",
        "print(f'Test Labels  : {test_labels.shape} ')\n",
        "print(f'Test Labels  : {valid_labels.shape} ')"
      ],
      "metadata": {
        "colab": {
          "base_uri": "https://localhost:8080/"
        },
        "id": "Qw06mLbfVAsI",
        "outputId": "8fb1bd25-93f2-41d2-cff6-d9e3377aff20"
      },
      "execution_count": null,
      "outputs": [
        {
          "output_type": "stream",
          "name": "stdout",
          "text": [
            "Train/Test/Validate splits: \n",
            "Train    : (34, 4) \n",
            "Test     : (12, 4) \n",
            "Validate : (12, 4) \n",
            "Train/Test/Validate labels: \n",
            "Train Labels : (34,) \n",
            "Test Labels  : (12,) \n",
            "Test Labels  : (12,) \n"
          ]
        }
      ]
    },
    {
      "cell_type": "code",
      "source": [
        "# show a sample of the data after normalized\n",
        "normed_train_data.head(10)"
      ],
      "metadata": {
        "colab": {
          "base_uri": "https://localhost:8080/",
          "height": 363
        },
        "id": "oHtxZ_7uVGuZ",
        "outputId": "88ce7682-74dd-4af4-e287-f99d0074badf"
      },
      "execution_count": null,
      "outputs": [
        {
          "output_type": "execute_result",
          "data": {
            "text/plain": [
              "          MW      LogP  NumHDonors  NumHAcceptors\n",
              "6  -0.976326 -0.175158   -0.870223      -1.751763\n",
              "50  1.612099  1.291246    1.059402       0.931117\n",
              "49  1.573820  1.470440    1.059402       0.931117\n",
              "51 -0.976744 -2.633443    1.059402      -0.678611\n",
              "15 -0.472372 -0.381103   -0.227015      -0.678611\n",
              "41  1.564149  1.416353    1.059402       0.931117\n",
              "56 -0.912320  0.294482   -2.156639      -0.142035\n",
              "8  -0.813134  0.123357   -0.227015      -1.751763\n",
              "20 -0.232111 -0.038268   -0.870223       0.394541\n",
              "61 -0.347842 -0.129298   -0.870223       1.467693"
            ],
            "text/html": [
              "\n",
              "  <div id=\"df-d21c6e39-27cd-402a-8107-1bd70c62c7e8\">\n",
              "    <div class=\"colab-df-container\">\n",
              "      <div>\n",
              "<style scoped>\n",
              "    .dataframe tbody tr th:only-of-type {\n",
              "        vertical-align: middle;\n",
              "    }\n",
              "\n",
              "    .dataframe tbody tr th {\n",
              "        vertical-align: top;\n",
              "    }\n",
              "\n",
              "    .dataframe thead th {\n",
              "        text-align: right;\n",
              "    }\n",
              "</style>\n",
              "<table border=\"1\" class=\"dataframe\">\n",
              "  <thead>\n",
              "    <tr style=\"text-align: right;\">\n",
              "      <th></th>\n",
              "      <th>MW</th>\n",
              "      <th>LogP</th>\n",
              "      <th>NumHDonors</th>\n",
              "      <th>NumHAcceptors</th>\n",
              "    </tr>\n",
              "  </thead>\n",
              "  <tbody>\n",
              "    <tr>\n",
              "      <th>6</th>\n",
              "      <td>-0.976326</td>\n",
              "      <td>-0.175158</td>\n",
              "      <td>-0.870223</td>\n",
              "      <td>-1.751763</td>\n",
              "    </tr>\n",
              "    <tr>\n",
              "      <th>50</th>\n",
              "      <td>1.612099</td>\n",
              "      <td>1.291246</td>\n",
              "      <td>1.059402</td>\n",
              "      <td>0.931117</td>\n",
              "    </tr>\n",
              "    <tr>\n",
              "      <th>49</th>\n",
              "      <td>1.573820</td>\n",
              "      <td>1.470440</td>\n",
              "      <td>1.059402</td>\n",
              "      <td>0.931117</td>\n",
              "    </tr>\n",
              "    <tr>\n",
              "      <th>51</th>\n",
              "      <td>-0.976744</td>\n",
              "      <td>-2.633443</td>\n",
              "      <td>1.059402</td>\n",
              "      <td>-0.678611</td>\n",
              "    </tr>\n",
              "    <tr>\n",
              "      <th>15</th>\n",
              "      <td>-0.472372</td>\n",
              "      <td>-0.381103</td>\n",
              "      <td>-0.227015</td>\n",
              "      <td>-0.678611</td>\n",
              "    </tr>\n",
              "    <tr>\n",
              "      <th>41</th>\n",
              "      <td>1.564149</td>\n",
              "      <td>1.416353</td>\n",
              "      <td>1.059402</td>\n",
              "      <td>0.931117</td>\n",
              "    </tr>\n",
              "    <tr>\n",
              "      <th>56</th>\n",
              "      <td>-0.912320</td>\n",
              "      <td>0.294482</td>\n",
              "      <td>-2.156639</td>\n",
              "      <td>-0.142035</td>\n",
              "    </tr>\n",
              "    <tr>\n",
              "      <th>8</th>\n",
              "      <td>-0.813134</td>\n",
              "      <td>0.123357</td>\n",
              "      <td>-0.227015</td>\n",
              "      <td>-1.751763</td>\n",
              "    </tr>\n",
              "    <tr>\n",
              "      <th>20</th>\n",
              "      <td>-0.232111</td>\n",
              "      <td>-0.038268</td>\n",
              "      <td>-0.870223</td>\n",
              "      <td>0.394541</td>\n",
              "    </tr>\n",
              "    <tr>\n",
              "      <th>61</th>\n",
              "      <td>-0.347842</td>\n",
              "      <td>-0.129298</td>\n",
              "      <td>-0.870223</td>\n",
              "      <td>1.467693</td>\n",
              "    </tr>\n",
              "  </tbody>\n",
              "</table>\n",
              "</div>\n",
              "      <button class=\"colab-df-convert\" onclick=\"convertToInteractive('df-d21c6e39-27cd-402a-8107-1bd70c62c7e8')\"\n",
              "              title=\"Convert this dataframe to an interactive table.\"\n",
              "              style=\"display:none;\">\n",
              "        \n",
              "  <svg xmlns=\"http://www.w3.org/2000/svg\" height=\"24px\"viewBox=\"0 0 24 24\"\n",
              "       width=\"24px\">\n",
              "    <path d=\"M0 0h24v24H0V0z\" fill=\"none\"/>\n",
              "    <path d=\"M18.56 5.44l.94 2.06.94-2.06 2.06-.94-2.06-.94-.94-2.06-.94 2.06-2.06.94zm-11 1L8.5 8.5l.94-2.06 2.06-.94-2.06-.94L8.5 2.5l-.94 2.06-2.06.94zm10 10l.94 2.06.94-2.06 2.06-.94-2.06-.94-.94-2.06-.94 2.06-2.06.94z\"/><path d=\"M17.41 7.96l-1.37-1.37c-.4-.4-.92-.59-1.43-.59-.52 0-1.04.2-1.43.59L10.3 9.45l-7.72 7.72c-.78.78-.78 2.05 0 2.83L4 21.41c.39.39.9.59 1.41.59.51 0 1.02-.2 1.41-.59l7.78-7.78 2.81-2.81c.8-.78.8-2.07 0-2.86zM5.41 20L4 18.59l7.72-7.72 1.47 1.35L5.41 20z\"/>\n",
              "  </svg>\n",
              "      </button>\n",
              "      \n",
              "  <style>\n",
              "    .colab-df-container {\n",
              "      display:flex;\n",
              "      flex-wrap:wrap;\n",
              "      gap: 12px;\n",
              "    }\n",
              "\n",
              "    .colab-df-convert {\n",
              "      background-color: #E8F0FE;\n",
              "      border: none;\n",
              "      border-radius: 50%;\n",
              "      cursor: pointer;\n",
              "      display: none;\n",
              "      fill: #1967D2;\n",
              "      height: 32px;\n",
              "      padding: 0 0 0 0;\n",
              "      width: 32px;\n",
              "    }\n",
              "\n",
              "    .colab-df-convert:hover {\n",
              "      background-color: #E2EBFA;\n",
              "      box-shadow: 0px 1px 2px rgba(60, 64, 67, 0.3), 0px 1px 3px 1px rgba(60, 64, 67, 0.15);\n",
              "      fill: #174EA6;\n",
              "    }\n",
              "\n",
              "    [theme=dark] .colab-df-convert {\n",
              "      background-color: #3B4455;\n",
              "      fill: #D2E3FC;\n",
              "    }\n",
              "\n",
              "    [theme=dark] .colab-df-convert:hover {\n",
              "      background-color: #434B5C;\n",
              "      box-shadow: 0px 1px 3px 1px rgba(0, 0, 0, 0.15);\n",
              "      filter: drop-shadow(0px 1px 2px rgba(0, 0, 0, 0.3));\n",
              "      fill: #FFFFFF;\n",
              "    }\n",
              "  </style>\n",
              "\n",
              "      <script>\n",
              "        const buttonEl =\n",
              "          document.querySelector('#df-d21c6e39-27cd-402a-8107-1bd70c62c7e8 button.colab-df-convert');\n",
              "        buttonEl.style.display =\n",
              "          google.colab.kernel.accessAllowed ? 'block' : 'none';\n",
              "\n",
              "        async function convertToInteractive(key) {\n",
              "          const element = document.querySelector('#df-d21c6e39-27cd-402a-8107-1bd70c62c7e8');\n",
              "          const dataTable =\n",
              "            await google.colab.kernel.invokeFunction('convertToInteractive',\n",
              "                                                     [key], {});\n",
              "          if (!dataTable) return;\n",
              "\n",
              "          const docLinkHtml = 'Like what you see? Visit the ' +\n",
              "            '<a target=\"_blank\" href=https://colab.research.google.com/notebooks/data_table.ipynb>data table notebook</a>'\n",
              "            + ' to learn more about interactive tables.';\n",
              "          element.innerHTML = '';\n",
              "          dataTable['output_type'] = 'display_data';\n",
              "          await google.colab.output.renderOutput(dataTable, element);\n",
              "          const docLink = document.createElement('div');\n",
              "          docLink.innerHTML = docLinkHtml;\n",
              "          element.appendChild(docLink);\n",
              "        }\n",
              "      </script>\n",
              "    </div>\n",
              "  </div>\n",
              "  "
            ]
          },
          "metadata": {},
          "execution_count": 249
        }
      ]
    },
    {
      "cell_type": "markdown",
      "source": [
        "# Build a Neural Network Model\n"
      ],
      "metadata": {
        "id": "rMRdVu-WX3Ex"
      }
    },
    {
      "cell_type": "code",
      "source": [
        "# We decalred a function for creating a model.\n",
        "def build_model1_two_hidden_layers():\n",
        "    # Keras model object created from Sequential class. This will be the container that contains all layers.\n",
        "    model = Sequential()\n",
        "\n",
        "    # The model so far is empty. It can be constructed by adding layers and compilation.\n",
        "    # This Keras model with multiple hidden layers.\n",
        "\n",
        "    # Input Layer with 10 Neurons\n",
        "    model.add(Dense(10, input_shape = (normed_train_data.shape[1],)))    # Input layer => input_shape must be explicitly designated\n",
        "#     model.add(Activation('relu')) # relu or sigmoid.\n",
        "\n",
        "    model.add(Dense(50,Activation('relu')))                         # Hidden layer 1 => only output dimension should be designated (output dimension = # of Neurons = 50)\n",
        "\n",
        "\n",
        "    model.add(Dense(50, Activation('relu')))                         # Hidden layer 2 => only output dimension should be designated (output dimension = # of Neurons = 50)\n",
        "\n",
        "\n",
        "    model.add(Dense(1))                          # Output layer => output dimension = 1 since it is a regression problem\n",
        "\n",
        "    # Activation: sigmoid, softmax, tanh, relu, LeakyReLU.\n",
        "    #Optimizer: SGD, Adam, RMSProp, etc. # https://www.tensorflow.org/api_docs/python/tf/keras/optimizers\n",
        "    learning_rate = 0.001\n",
        "    optimizer = optimizers.RMSprop(learning_rate)\n",
        "    model.compile(loss='mse',\n",
        "                optimizer=optimizer,\n",
        "                metrics=['mae', 'mse', 'mape']) # for regression problems, mean squared error (MSE) is often employed\n",
        "\n",
        "    return model"
      ],
      "metadata": {
        "id": "VrcLNZhIX8WS"
      },
      "execution_count": null,
      "outputs": []
    },
    {
      "cell_type": "code",
      "source": [
        "model = build_model1_two_hidden_layers()\n",
        "print('Here is a summary of this model: ')\n",
        "model.summary()"
      ],
      "metadata": {
        "colab": {
          "base_uri": "https://localhost:8080/"
        },
        "id": "0RTyEKH9YR25",
        "outputId": "378561d1-6bc0-4d13-c78a-0c01fb6ed54f"
      },
      "execution_count": null,
      "outputs": [
        {
          "output_type": "stream",
          "name": "stdout",
          "text": [
            "Here is a summary of this model: \n",
            "Model: \"sequential_24\"\n",
            "_________________________________________________________________\n",
            " Layer (type)                Output Shape              Param #   \n",
            "=================================================================\n",
            " dense_122 (Dense)           (None, 10)                50        \n",
            "                                                                 \n",
            " dense_123 (Dense)           (None, 50)                550       \n",
            "                                                                 \n",
            " dense_124 (Dense)           (None, 50)                2550      \n",
            "                                                                 \n",
            " dense_125 (Dense)           (None, 1)                 51        \n",
            "                                                                 \n",
            "=================================================================\n",
            "Total params: 3,201\n",
            "Trainable params: 3,201\n",
            "Non-trainable params: 0\n",
            "_________________________________________________________________\n"
          ]
        }
      ]
    },
    {
      "cell_type": "code",
      "source": [
        "# We decalred a function for creating a model.\n",
        "def build_model2_three_hidden_layers():\n",
        "    # Keras model object created from Sequential class. This will be the container that contains all layers.\n",
        "    model = Sequential()\n",
        "\n",
        "    # The model so far is empty. It can be constructed by adding layers and compilation.\n",
        "    # This Keras model with multiple hidden layers.\n",
        "\n",
        "    # Input Layer with 32 Neurons\n",
        "    model.add(Dense(32, input_shape = (normed_train_data.shape[1],)))    # Input layer => input_shape must be explicitly designated\n",
        "#     model.add(Activation('relu')) # relu or sigmoid.\n",
        "\n",
        "    model.add(Dense(32,Activation('relu')))                         # Hidden layer 1 => only output dimension should be designated (output dimension = # of Neurons = 32)\n",
        "\n",
        "\n",
        "    model.add(Dense(64, Activation('relu')))                         # Hidden layer 2 => only output dimension should be designated (output dimension = # of Neurons = 64)\n",
        "\n",
        "\n",
        "    model.add(Dense(128, Activation('relu')))                         # Hidden layer 3 => only output dimension should be designated (output dimension = # of Neurons = 128)\n",
        "\n",
        "\n",
        "    model.add(Dense(1))                          # Output layer => output dimension = 1 since it is a regression problem\n",
        "\n",
        "    # Activation: sigmoid, softmax, tanh, relu, LeakyReLU.\n",
        "    #Optimizer: SGD, Adam, RMSProp, etc. # https://www.tensorflow.org/api_docs/python/tf/keras/optimizers\n",
        "    learning_rate = 0.01\n",
        "    optimizer = optimizers.SGD(learning_rate)\n",
        "    model.compile(loss='mse',\n",
        "                optimizer=optimizer,\n",
        "                metrics=['mae', 'mse', 'mape']) # for regression problems, mean squared error (MSE) is often employed\n",
        "\n",
        "    return model\n",
        "\n",
        "model2 = build_model2_three_hidden_layers()\n",
        "print('Here is a summary of this model: ')\n",
        "model2.summary()"
      ],
      "metadata": {
        "id": "0R7zNlB0cBgB"
      },
      "execution_count": null,
      "outputs": []
    },
    {
      "cell_type": "code",
      "source": [
        "# We decalred a function for creating a model.\n",
        "def build_model3_five_hidden_layers():\n",
        "    # Keras model object created from Sequential class. This will be the container that contains all layers.\n",
        "    model = Sequential()\n",
        "\n",
        "    # The model so far is empty. It can be constructed by adding layers and compilation.\n",
        "    # This Keras model with multiple hidden layers.\n",
        "\n",
        "    # Input Layer with 32 Neurons\n",
        "    model.add(Dense(32, input_shape = (normed_train_data.shape[1],)))    # Input layer => input_shape must be explicitly designated\n",
        "#     model.add(Activation('relu')) # relu or sigmoid.\n",
        "\n",
        "    model.add(Dense(64,Activation('relu')))                         # Hidden layer 1 => only output dimension should be designated (output dimension = # of Neurons = 64)\n",
        "\n",
        "\n",
        "    model.add(Dense(64, Activation('relu')))                         # Hidden layer 2 => only output dimension should be designated (output dimension = # of Neurons = 64)\n",
        "\n",
        "\n",
        "    model.add(Dense(64, Activation('relu')))                         # Hidden layer 3 => only output dimension should be designated (output dimension = # of Neurons = 64)\n",
        "\n",
        "\n",
        "    model.add(Dense(64, Activation('relu')))                         # Hidden layer 4 => only output dimension should be designated (output dimension = # of Neurons = 64)\n",
        "\n",
        "\n",
        "    model.add(Dense(64, Activation('relu')))                         # Hidden layer 5 => only output dimension should be designated (output dimension = # of Neurons = 64)\n",
        "\n",
        "\n",
        "    model.add(Dense(1))                          # Output layer => output dimension = 1 since it is a regression problem\n",
        "\n",
        "    # Activation: sigmoid, softmax, tanh, relu, LeakyReLU.\n",
        "    #Optimizer: SGD, Adam, RMSProp, etc. # https://www.tensorflow.org/api_docs/python/tf/keras/optimizers\n",
        "    learning_rate = 0.001\n",
        "    optimizer = optimizers.RMSprop(learning_rate)\n",
        "    model.compile(loss='mse',\n",
        "                optimizer=optimizer,\n",
        "                metrics=['mae', 'mse', 'mape']) # for regression problems, mean squared error (MSE) is often employed\n",
        "\n",
        "    return model\n",
        "\n",
        "model3 = build_model3_five_hidden_layers()\n",
        "print('Here is a summary of this model: ')\n",
        "model3.summary()"
      ],
      "metadata": {
        "colab": {
          "base_uri": "https://localhost:8080/"
        },
        "id": "G8Gti2eRcMhp",
        "outputId": "a7240a89-1e6c-4dc5-ec60-3de51e041542"
      },
      "execution_count": null,
      "outputs": [
        {
          "output_type": "stream",
          "name": "stdout",
          "text": [
            "Here is a summary of this model: \n",
            "Model: \"sequential_26\"\n",
            "_________________________________________________________________\n",
            " Layer (type)                Output Shape              Param #   \n",
            "=================================================================\n",
            " dense_131 (Dense)           (None, 32)                160       \n",
            "                                                                 \n",
            " dense_132 (Dense)           (None, 64)                2112      \n",
            "                                                                 \n",
            " dense_133 (Dense)           (None, 64)                4160      \n",
            "                                                                 \n",
            " dense_134 (Dense)           (None, 64)                4160      \n",
            "                                                                 \n",
            " dense_135 (Dense)           (None, 64)                4160      \n",
            "                                                                 \n",
            " dense_136 (Dense)           (None, 64)                4160      \n",
            "                                                                 \n",
            " dense_137 (Dense)           (None, 1)                 65        \n",
            "                                                                 \n",
            "=================================================================\n",
            "Total params: 18,977\n",
            "Trainable params: 18,977\n",
            "Non-trainable params: 0\n",
            "_________________________________________________________________\n"
          ]
        }
      ]
    },
    {
      "cell_type": "code",
      "source": [
        "# Test the model before training (this will use the initial weights.) which in fact will generate random values.\n",
        "example_batch = normed_train_data[:10] # take the first 10 data points from the training data.\n",
        "example_result = model.predict(example_batch)\n",
        "example_result"
      ],
      "metadata": {
        "colab": {
          "base_uri": "https://localhost:8080/"
        },
        "id": "msJ3MszDcliK",
        "outputId": "fa0abe65-18d6-4d16-8616-de99441f1d3f"
      },
      "execution_count": null,
      "outputs": [
        {
          "output_type": "stream",
          "name": "stdout",
          "text": [
            "1/1 [==============================] - 0s 70ms/step\n"
          ]
        },
        {
          "output_type": "execute_result",
          "data": {
            "text/plain": [
              "array([[-0.52672285],\n",
              "       [-0.02570498],\n",
              "       [-0.04305438],\n",
              "       [-0.0391054 ],\n",
              "       [-0.14494914],\n",
              "       [-0.03723479],\n",
              "       [-0.00985153],\n",
              "       [-0.34114665],\n",
              "       [ 0.09739295],\n",
              "       [ 0.21683401]], dtype=float32)"
            ]
          },
          "metadata": {},
          "execution_count": 254
        }
      ]
    },
    {
      "cell_type": "markdown",
      "source": [
        "# Save checkpoints during training"
      ],
      "metadata": {
        "id": "EUDuTHmqdpgx"
      }
    },
    {
      "cell_type": "code",
      "source": [
        "!pip install -q pyyaml"
      ],
      "metadata": {
        "id": "k63DBpZSd025"
      },
      "execution_count": null,
      "outputs": []
    },
    {
      "cell_type": "code",
      "source": [
        "# pip install -q pyyaml h5py  # Required to save models in HDF5 format\n",
        "\n",
        "checkpoint_path = r\".C:/Users/iicte/Documents/gaya3/models.ckpt\"\n",
        "\n",
        "# Create a callback that saves the model's weights\n",
        "ckpt_callback = tf.keras.callbacks.ModelCheckpoint(filepath=checkpoint_path,\n",
        "                                                 monitor='val_loss', # or val_accuracy if you have it.\n",
        "                                                 save_best_only=True, # Default false. If you don't change the file name then the output will be overritten at each step and only the last model will be saved.\n",
        "                                                 save_weights_only=True, # True => model.save_weights (weights and no structure, you need JSON file for structure), False => model.save (saves weights & structure)\n",
        "                                                 verbose=0,\n",
        "                                                  )\n",
        "\n",
        "# epoch"
      ],
      "metadata": {
        "id": "5zhEx_VndtgR"
      },
      "execution_count": null,
      "outputs": []
    },
    {
      "cell_type": "markdown",
      "source": [
        "# Training the model we built above."
      ],
      "metadata": {
        "id": "79l3nKAA1h0h"
      }
    },
    {
      "cell_type": "code",
      "source": [
        "%%time\n",
        "EPOCHS = 500\n",
        "batch_size = 32 # 6 iteration\n",
        "\n",
        "model = build_model2_three_hidden_layers()\n",
        "print('Here is a summary of this model: ')\n",
        "model.summary()\n",
        "\n",
        "\n",
        "with tf.device('/CPU:0'): # it can be with '/CPU:0'\n",
        "# with tf.device('/GPU:0'): # comment the previous line and uncomment this line to train with a GPU, if available.\n",
        "    history = model.fit(\n",
        "        normed_train_data,\n",
        "        train_labels,\n",
        "        batch_size = batch_size,\n",
        "        epochs=EPOCHS,\n",
        "        verbose=0,\n",
        "        shuffle=True,\n",
        "        steps_per_epoch = int(normed_train_data.shape[0] / batch_size) ,\n",
        "        validation_data = (normed_valid_dataset, valid_labels),\n",
        "        callbacks=[tfdocs.modeling.EpochDots(),\n",
        "                 ckpt_callback\n",
        "                  ],\n",
        "\n",
        "    )"
      ],
      "metadata": {
        "colab": {
          "base_uri": "https://localhost:8080/"
        },
        "id": "AZUPBAuocvfI",
        "outputId": "532e0124-4a59-41df-837b-4fd360b1c212"
      },
      "execution_count": null,
      "outputs": [
        {
          "output_type": "stream",
          "name": "stdout",
          "text": [
            "Here is a summary of this model: \n",
            "Model: \"sequential_27\"\n",
            "_________________________________________________________________\n",
            " Layer (type)                Output Shape              Param #   \n",
            "=================================================================\n",
            " dense_138 (Dense)           (None, 32)                160       \n",
            "                                                                 \n",
            " dense_139 (Dense)           (None, 32)                1056      \n",
            "                                                                 \n",
            " dense_140 (Dense)           (None, 64)                2112      \n",
            "                                                                 \n",
            " dense_141 (Dense)           (None, 128)               8320      \n",
            "                                                                 \n",
            " dense_142 (Dense)           (None, 1)                 129       \n",
            "                                                                 \n",
            "=================================================================\n",
            "Total params: 11,777\n",
            "Trainable params: 11,777\n",
            "Non-trainable params: 0\n",
            "_________________________________________________________________\n"
          ]
        },
        {
          "output_type": "stream",
          "name": "stderr",
          "text": [
            "WARNING:tensorflow:5 out of the last 509 calls to <function Model.make_test_function.<locals>.test_function at 0x7fdf845da950> triggered tf.function retracing. Tracing is expensive and the excessive number of tracings could be due to (1) creating @tf.function repeatedly in a loop, (2) passing tensors with different shapes, (3) passing Python objects instead of tensors. For (1), please define your @tf.function outside of the loop. For (2), @tf.function has reduce_retracing=True option that can avoid unnecessary retracing. For (3), please refer to https://www.tensorflow.org/guide/function#controlling_retracing and https://www.tensorflow.org/api_docs/python/tf/function for  more details.\n"
          ]
        },
        {
          "output_type": "stream",
          "name": "stdout",
          "text": [
            "\n",
            "Epoch: 0, loss:30.9542,  mae:5.4774,  mape:101.2357,  mse:30.9542,  val_loss:21.6954,  val_mae:4.5467,  val_mape:92.8340,  val_mse:21.6954,  \n",
            "....................................................................................................\n",
            "Epoch: 100, loss:0.9338,  mae:0.7981,  mape:14.5629,  mse:0.9338,  val_loss:1.0692,  val_mae:0.7593,  val_mape:14.3085,  val_mse:1.0692,  \n",
            "....................................................................................................\n",
            "Epoch: 200, loss:0.3174,  mae:0.4433,  mape:8.2959,  mse:0.3174,  val_loss:1.6155,  val_mae:0.8307,  val_mape:15.5332,  val_mse:1.6155,  \n",
            "....................................................................................................\n",
            "Epoch: 300, loss:0.3488,  mae:0.4130,  mape:7.7725,  mse:0.3488,  val_loss:1.7919,  val_mae:0.8765,  val_mape:16.3810,  val_mse:1.7919,  \n",
            "....................................................................................................\n",
            "Epoch: 400, loss:0.2628,  mae:0.3728,  mape:6.4680,  mse:0.2628,  val_loss:1.6753,  val_mae:0.8334,  val_mape:15.4179,  val_mse:1.6753,  \n",
            "....................................................................................................CPU times: user 26.4 s, sys: 722 ms, total: 27.1 s\n",
            "Wall time: 1min 22s\n"
          ]
        }
      ]
    },
    {
      "cell_type": "code",
      "source": [
        "print('Summary of the results after each epoch: ')\n",
        "hist = pd.DataFrame(history.history)\n",
        "hist['epoch'] = history.epoch\n",
        "hist.tail()"
      ],
      "metadata": {
        "colab": {
          "base_uri": "https://localhost:8080/",
          "height": 224
        },
        "id": "0aMm4KPL7h7d",
        "outputId": "281ae3dc-6bae-4c69-e4b2-180d171beb4e"
      },
      "execution_count": null,
      "outputs": [
        {
          "output_type": "stream",
          "name": "stdout",
          "text": [
            "Summary of the results after each epoch: \n"
          ]
        },
        {
          "output_type": "execute_result",
          "data": {
            "text/plain": [
              "         loss       mae       mse      mape  val_loss   val_mae   val_mse  \\\n",
              "495  0.020445  0.142892  0.020445  2.786258  1.801924  0.918052  1.801924   \n",
              "496  0.243755  0.358587  0.243755  6.601648  1.725029  0.881382  1.725029   \n",
              "497  0.034631  0.186052  0.034631  4.325750  1.812092  0.858492  1.812092   \n",
              "498  0.253164  0.351314  0.253164  6.208752  1.762033  0.862501  1.762033   \n",
              "499  0.006910  0.060765  0.006910  1.412791  1.780318  0.850331  1.780318   \n",
              "\n",
              "      val_mape  epoch  \n",
              "495  17.452997    495  \n",
              "496  16.574320    496  \n",
              "497  15.727130    497  \n",
              "498  16.062874    498  \n",
              "499  15.692248    499  "
            ],
            "text/html": [
              "\n",
              "  <div id=\"df-5b67c846-82e6-4db0-8403-59a722fc0040\">\n",
              "    <div class=\"colab-df-container\">\n",
              "      <div>\n",
              "<style scoped>\n",
              "    .dataframe tbody tr th:only-of-type {\n",
              "        vertical-align: middle;\n",
              "    }\n",
              "\n",
              "    .dataframe tbody tr th {\n",
              "        vertical-align: top;\n",
              "    }\n",
              "\n",
              "    .dataframe thead th {\n",
              "        text-align: right;\n",
              "    }\n",
              "</style>\n",
              "<table border=\"1\" class=\"dataframe\">\n",
              "  <thead>\n",
              "    <tr style=\"text-align: right;\">\n",
              "      <th></th>\n",
              "      <th>loss</th>\n",
              "      <th>mae</th>\n",
              "      <th>mse</th>\n",
              "      <th>mape</th>\n",
              "      <th>val_loss</th>\n",
              "      <th>val_mae</th>\n",
              "      <th>val_mse</th>\n",
              "      <th>val_mape</th>\n",
              "      <th>epoch</th>\n",
              "    </tr>\n",
              "  </thead>\n",
              "  <tbody>\n",
              "    <tr>\n",
              "      <th>495</th>\n",
              "      <td>0.020445</td>\n",
              "      <td>0.142892</td>\n",
              "      <td>0.020445</td>\n",
              "      <td>2.786258</td>\n",
              "      <td>1.801924</td>\n",
              "      <td>0.918052</td>\n",
              "      <td>1.801924</td>\n",
              "      <td>17.452997</td>\n",
              "      <td>495</td>\n",
              "    </tr>\n",
              "    <tr>\n",
              "      <th>496</th>\n",
              "      <td>0.243755</td>\n",
              "      <td>0.358587</td>\n",
              "      <td>0.243755</td>\n",
              "      <td>6.601648</td>\n",
              "      <td>1.725029</td>\n",
              "      <td>0.881382</td>\n",
              "      <td>1.725029</td>\n",
              "      <td>16.574320</td>\n",
              "      <td>496</td>\n",
              "    </tr>\n",
              "    <tr>\n",
              "      <th>497</th>\n",
              "      <td>0.034631</td>\n",
              "      <td>0.186052</td>\n",
              "      <td>0.034631</td>\n",
              "      <td>4.325750</td>\n",
              "      <td>1.812092</td>\n",
              "      <td>0.858492</td>\n",
              "      <td>1.812092</td>\n",
              "      <td>15.727130</td>\n",
              "      <td>497</td>\n",
              "    </tr>\n",
              "    <tr>\n",
              "      <th>498</th>\n",
              "      <td>0.253164</td>\n",
              "      <td>0.351314</td>\n",
              "      <td>0.253164</td>\n",
              "      <td>6.208752</td>\n",
              "      <td>1.762033</td>\n",
              "      <td>0.862501</td>\n",
              "      <td>1.762033</td>\n",
              "      <td>16.062874</td>\n",
              "      <td>498</td>\n",
              "    </tr>\n",
              "    <tr>\n",
              "      <th>499</th>\n",
              "      <td>0.006910</td>\n",
              "      <td>0.060765</td>\n",
              "      <td>0.006910</td>\n",
              "      <td>1.412791</td>\n",
              "      <td>1.780318</td>\n",
              "      <td>0.850331</td>\n",
              "      <td>1.780318</td>\n",
              "      <td>15.692248</td>\n",
              "      <td>499</td>\n",
              "    </tr>\n",
              "  </tbody>\n",
              "</table>\n",
              "</div>\n",
              "      <button class=\"colab-df-convert\" onclick=\"convertToInteractive('df-5b67c846-82e6-4db0-8403-59a722fc0040')\"\n",
              "              title=\"Convert this dataframe to an interactive table.\"\n",
              "              style=\"display:none;\">\n",
              "        \n",
              "  <svg xmlns=\"http://www.w3.org/2000/svg\" height=\"24px\"viewBox=\"0 0 24 24\"\n",
              "       width=\"24px\">\n",
              "    <path d=\"M0 0h24v24H0V0z\" fill=\"none\"/>\n",
              "    <path d=\"M18.56 5.44l.94 2.06.94-2.06 2.06-.94-2.06-.94-.94-2.06-.94 2.06-2.06.94zm-11 1L8.5 8.5l.94-2.06 2.06-.94-2.06-.94L8.5 2.5l-.94 2.06-2.06.94zm10 10l.94 2.06.94-2.06 2.06-.94-2.06-.94-.94-2.06-.94 2.06-2.06.94z\"/><path d=\"M17.41 7.96l-1.37-1.37c-.4-.4-.92-.59-1.43-.59-.52 0-1.04.2-1.43.59L10.3 9.45l-7.72 7.72c-.78.78-.78 2.05 0 2.83L4 21.41c.39.39.9.59 1.41.59.51 0 1.02-.2 1.41-.59l7.78-7.78 2.81-2.81c.8-.78.8-2.07 0-2.86zM5.41 20L4 18.59l7.72-7.72 1.47 1.35L5.41 20z\"/>\n",
              "  </svg>\n",
              "      </button>\n",
              "      \n",
              "  <style>\n",
              "    .colab-df-container {\n",
              "      display:flex;\n",
              "      flex-wrap:wrap;\n",
              "      gap: 12px;\n",
              "    }\n",
              "\n",
              "    .colab-df-convert {\n",
              "      background-color: #E8F0FE;\n",
              "      border: none;\n",
              "      border-radius: 50%;\n",
              "      cursor: pointer;\n",
              "      display: none;\n",
              "      fill: #1967D2;\n",
              "      height: 32px;\n",
              "      padding: 0 0 0 0;\n",
              "      width: 32px;\n",
              "    }\n",
              "\n",
              "    .colab-df-convert:hover {\n",
              "      background-color: #E2EBFA;\n",
              "      box-shadow: 0px 1px 2px rgba(60, 64, 67, 0.3), 0px 1px 3px 1px rgba(60, 64, 67, 0.15);\n",
              "      fill: #174EA6;\n",
              "    }\n",
              "\n",
              "    [theme=dark] .colab-df-convert {\n",
              "      background-color: #3B4455;\n",
              "      fill: #D2E3FC;\n",
              "    }\n",
              "\n",
              "    [theme=dark] .colab-df-convert:hover {\n",
              "      background-color: #434B5C;\n",
              "      box-shadow: 0px 1px 3px 1px rgba(0, 0, 0, 0.15);\n",
              "      filter: drop-shadow(0px 1px 2px rgba(0, 0, 0, 0.3));\n",
              "      fill: #FFFFFF;\n",
              "    }\n",
              "  </style>\n",
              "\n",
              "      <script>\n",
              "        const buttonEl =\n",
              "          document.querySelector('#df-5b67c846-82e6-4db0-8403-59a722fc0040 button.colab-df-convert');\n",
              "        buttonEl.style.display =\n",
              "          google.colab.kernel.accessAllowed ? 'block' : 'none';\n",
              "\n",
              "        async function convertToInteractive(key) {\n",
              "          const element = document.querySelector('#df-5b67c846-82e6-4db0-8403-59a722fc0040');\n",
              "          const dataTable =\n",
              "            await google.colab.kernel.invokeFunction('convertToInteractive',\n",
              "                                                     [key], {});\n",
              "          if (!dataTable) return;\n",
              "\n",
              "          const docLinkHtml = 'Like what you see? Visit the ' +\n",
              "            '<a target=\"_blank\" href=https://colab.research.google.com/notebooks/data_table.ipynb>data table notebook</a>'\n",
              "            + ' to learn more about interactive tables.';\n",
              "          element.innerHTML = '';\n",
              "          dataTable['output_type'] = 'display_data';\n",
              "          await google.colab.output.renderOutput(dataTable, element);\n",
              "          const docLink = document.createElement('div');\n",
              "          docLink.innerHTML = docLinkHtml;\n",
              "          element.appendChild(docLink);\n",
              "        }\n",
              "      </script>\n",
              "    </div>\n",
              "  </div>\n",
              "  "
            ]
          },
          "metadata": {},
          "execution_count": 258
        }
      ]
    },
    {
      "cell_type": "code",
      "source": [
        "# normed_train_data.pop('medv')\n",
        "# Test the model after training.\n",
        "example_batch = normed_train_data[:10]\n",
        "example_result = model.predict(example_batch)\n",
        "print('predicted values: ')\n",
        "example_result"
      ],
      "metadata": {
        "colab": {
          "base_uri": "https://localhost:8080/"
        },
        "id": "DNMVz7Zo7w6C",
        "outputId": "004dd3f8-94b5-4a23-ec34-2a74ca95c39b"
      },
      "execution_count": null,
      "outputs": [
        {
          "output_type": "stream",
          "name": "stdout",
          "text": [
            "1/1 [==============================] - 0s 75ms/step\n",
            "predicted values: \n"
          ]
        },
        {
          "output_type": "execute_result",
          "data": {
            "text/plain": [
              "array([[4.115086 ],\n",
              "       [6.4234796],\n",
              "       [6.405483 ],\n",
              "       [6.425938 ],\n",
              "       [4.812445 ],\n",
              "       [6.4096785],\n",
              "       [5.073626 ],\n",
              "       [4.296496 ],\n",
              "       [4.597487 ],\n",
              "       [5.113134 ]], dtype=float32)"
            ]
          },
          "metadata": {},
          "execution_count": 259
        }
      ]
    },
    {
      "cell_type": "code",
      "source": [
        "print('The ground truth: ')\n",
        "train_labels[:10]"
      ],
      "metadata": {
        "colab": {
          "base_uri": "https://localhost:8080/"
        },
        "id": "Fw7NAW2h78WJ",
        "outputId": "88eb7fb7-aca4-4a0b-e053-3bf54f24bb0d"
      },
      "execution_count": null,
      "outputs": [
        {
          "output_type": "stream",
          "name": "stdout",
          "text": [
            "The ground truth: \n"
          ]
        },
        {
          "output_type": "execute_result",
          "data": {
            "text/plain": [
              "6     4.301030\n",
              "50    6.950782\n",
              "49    5.589898\n",
              "51    6.866461\n",
              "15    4.594483\n",
              "41    6.338187\n",
              "56    5.175874\n",
              "8     4.301030\n",
              "20    4.301030\n",
              "61    5.175874\n",
              "Name: pIC50, dtype: float64"
            ]
          },
          "metadata": {},
          "execution_count": 260
        }
      ]
    },
    {
      "cell_type": "code",
      "source": [
        "# normed_train_data.pop('medv')\n",
        "# Test the model after training.\n",
        "example_batch = normed_test_data[:10]\n",
        "example_result = model.predict(example_batch)\n",
        "print('predicted values: ')\n",
        "example_result"
      ],
      "metadata": {
        "colab": {
          "base_uri": "https://localhost:8080/"
        },
        "id": "lfoA9tjI7-6D",
        "outputId": "fb908e7c-bb65-4f2d-d8da-75a817acd787"
      },
      "execution_count": null,
      "outputs": [
        {
          "output_type": "stream",
          "name": "stdout",
          "text": [
            "1/1 [==============================] - 0s 41ms/step\n",
            "predicted values: \n"
          ]
        },
        {
          "output_type": "execute_result",
          "data": {
            "text/plain": [
              "array([[6.2473645],\n",
              "       [4.911574 ],\n",
              "       [4.4972963],\n",
              "       [4.3781123],\n",
              "       [4.3619556],\n",
              "       [4.5495377],\n",
              "       [5.0207267],\n",
              "       [4.9356656],\n",
              "       [6.4262776],\n",
              "       [6.240745 ]], dtype=float32)"
            ]
          },
          "metadata": {},
          "execution_count": 261
        }
      ]
    },
    {
      "cell_type": "code",
      "source": [
        "print('The ground truth: ')\n",
        "test_labels[:10]"
      ],
      "metadata": {
        "colab": {
          "base_uri": "https://localhost:8080/"
        },
        "id": "mhDBTQ3y8EmQ",
        "outputId": "452c6a0d-0a2b-425a-9448-3af36f03241a"
      },
      "execution_count": null,
      "outputs": [
        {
          "output_type": "stream",
          "name": "stdout",
          "text": [
            "The ground truth: \n"
          ]
        },
        {
          "output_type": "execute_result",
          "data": {
            "text/plain": [
              "36    7.102373\n",
              "24    4.621602\n",
              "13    6.283997\n",
              "22    4.301030\n",
              "23    4.301030\n",
              "11    4.301030\n",
              "55    5.175874\n",
              "62    5.175874\n",
              "40    5.056110\n",
              "37    6.070070\n",
              "Name: pIC50, dtype: float64"
            ]
          },
          "metadata": {},
          "execution_count": 262
        }
      ]
    },
    {
      "cell_type": "markdown",
      "source": [
        "# See how the training went by plotting the loss/mse across epochs"
      ],
      "metadata": {
        "id": "Bx_26fFw8LdM"
      }
    },
    {
      "cell_type": "code",
      "source": [
        "plotter = tfdocs.plots.HistoryPlotter(smoothing_std=2)"
      ],
      "metadata": {
        "id": "2EVcEZxx8Il8"
      },
      "execution_count": null,
      "outputs": []
    },
    {
      "cell_type": "code",
      "source": [
        "plotter.plot({'Basic': history}, metric = \"mae\")\n",
        "plt.ylim([0, 8])\n",
        "plt.ylabel('MAE [pIC50]')"
      ],
      "metadata": {
        "colab": {
          "base_uri": "https://localhost:8080/",
          "height": 472
        },
        "id": "xRaIoNMK8WgF",
        "outputId": "4355a1b7-ed5d-434e-c161-c71da34b7903"
      },
      "execution_count": null,
      "outputs": [
        {
          "output_type": "execute_result",
          "data": {
            "text/plain": [
              "Text(0, 0.5, 'MAE [pIC50]')"
            ]
          },
          "metadata": {},
          "execution_count": 264
        },
        {
          "output_type": "display_data",
          "data": {
            "text/plain": [
              "<Figure size 640x480 with 1 Axes>"
            ],
            "image/png": "[encoded data removed]"
          },
          "metadata": {}
        }
      ]
    },
    {
      "cell_type": "code",
      "source": [
        "plotter.plot({'Basic': history}, metric = \"mse\")\n",
        "plt.ylim([0, 80])\n",
        "plt.ylabel('MSE [pIC50^2]')"
      ],
      "metadata": {
        "colab": {
          "base_uri": "https://localhost:8080/",
          "height": 472
        },
        "id": "BOZGFU9u8jJi",
        "outputId": "3b3091f8-6fba-42e9-b20b-0b53a4eb5e8c"
      },
      "execution_count": null,
      "outputs": [
        {
          "output_type": "execute_result",
          "data": {
            "text/plain": [
              "Text(0, 0.5, 'MSE [pIC50^2]')"
            ]
          },
          "metadata": {},
          "execution_count": 265
        },
        {
          "output_type": "display_data",
          "data": {
            "text/plain": [
              "<Figure size 640x480 with 1 Axes>"
            ],
            "image/png": "[encoded data removed]"
          },
          "metadata": {}
        }
      ]
    },
    {
      "cell_type": "code",
      "source": [
        "print('Error Rate on Train Split: ')\n",
        "loss, mae, mse, mape = model.evaluate(normed_train_data, train_labels, verbose=2)\n",
        "\n",
        "print(\"Train set Mean Abs Error    : {:5.2f} pIC50\".format(mae))\n",
        "print(\"Train set Mean Squared Error: {:5.2f} pIC50\".format(mse))"
      ],
      "metadata": {
        "colab": {
          "base_uri": "https://localhost:8080/"
        },
        "id": "bzj9xD61807Z",
        "outputId": "d987e096-efb2-44a1-f1ea-5eb320bba43a"
      },
      "execution_count": null,
      "outputs": [
        {
          "output_type": "stream",
          "name": "stdout",
          "text": [
            "Error Rate on Train Split: \n",
            "2/2 - 0s - loss: 0.2214 - mae: 0.3244 - mse: 0.2214 - mape: 5.8391 - 28ms/epoch - 14ms/step\n",
            "Train set Mean Abs Error    :  0.32 pIC50\n",
            "Train set Mean Squared Error:  0.22 pIC50\n"
          ]
        }
      ]
    },
    {
      "cell_type": "code",
      "source": [
        "print('Error Rate on Evaluation Split: ')\n",
        "loss, mae, mse, mape = model.evaluate(normed_valid_dataset, valid_labels, verbose=2)\n",
        "\n",
        "print(\"Validation set Mean Abs Error    : {:5.2f} pIC50\".format(mae))\n",
        "print(\"Validation set Mean Squared Error: {:5.2f} pIC50\".format(mse))"
      ],
      "metadata": {
        "colab": {
          "base_uri": "https://localhost:8080/"
        },
        "id": "PhQFtDys9OPB",
        "outputId": "e2386d06-7fd5-4a74-e9e6-6bd181fb62da"
      },
      "execution_count": null,
      "outputs": [
        {
          "output_type": "stream",
          "name": "stdout",
          "text": [
            "Error Rate on Evaluation Split: \n",
            "1/1 - 0s - loss: 1.7803 - mae: 0.8503 - mse: 1.7803 - mape: 15.6922 - 39ms/epoch - 39ms/step\n",
            "Validation set Mean Abs Error    :  0.85 pIC50\n",
            "Validation set Mean Squared Error:  1.78 pIC50\n"
          ]
        }
      ]
    },
    {
      "cell_type": "code",
      "source": [
        "print('Error Rate on Test Split: ')\n",
        "loss, mae, mse, mape = model.evaluate(normed_test_data, test_labels, verbose=2)\n",
        "\n",
        "print(\"Testing set Mean Abs Error    : {:5.2f} pIC50\".format(mae))\n",
        "print(\"Testing set Mean Squared Error: {:5.2f} pIC50\".format(mse))"
      ],
      "metadata": {
        "colab": {
          "base_uri": "https://localhost:8080/"
        },
        "id": "NSerh7Gv9ZZS",
        "outputId": "c087bc34-c2fb-4183-b257-8bd138706fb3"
      },
      "execution_count": null,
      "outputs": [
        {
          "output_type": "stream",
          "name": "stdout",
          "text": [
            "Error Rate on Test Split: \n",
            "1/1 - 0s - loss: 0.5071 - mae: 0.4502 - mse: 0.5071 - mape: 8.0109 - 26ms/epoch - 26ms/step\n",
            "Testing set Mean Abs Error    :  0.45 pIC50\n",
            "Testing set Mean Squared Error:  0.51 pIC50\n"
          ]
        }
      ]
    },
    {
      "cell_type": "code",
      "source": [
        "train_predictions = model.predict(normed_train_data).flatten()\n",
        "\n",
        "a = plt.axes(aspect='equal')\n",
        "plt.scatter(train_labels, train_predictions)\n",
        "plt.xlabel('True Values [pIC50]')\n",
        "plt.ylabel('Predictions [pIC50]')\n",
        "lims = [0, 60]\n",
        "plt.xlim(lims)\n",
        "plt.ylim(lims)\n",
        "_ = plt.plot(lims, lims)"
      ],
      "metadata": {
        "colab": {
          "base_uri": "https://localhost:8080/",
          "height": 472
        },
        "id": "fW-goHWO_Ekh",
        "outputId": "65288c2c-c6a9-44d3-ad16-aec22aceb5ca"
      },
      "execution_count": null,
      "outputs": [
        {
          "output_type": "stream",
          "name": "stdout",
          "text": [
            "2/2 [==============================] - 0s 7ms/step\n"
          ]
        },
        {
          "output_type": "display_data",
          "data": {
            "text/plain": [
              "<Figure size 640x480 with 1 Axes>"
            ],
            "image/png": "[encoded data removed]"
          },
          "metadata": {}
        }
      ]
    },
    {
      "cell_type": "code",
      "source": [
        "test_predictions = model.predict(normed_test_data).flatten()\n",
        "\n",
        "a = plt.axes(aspect='equal')\n",
        "plt.scatter(test_labels, test_predictions)\n",
        "plt.xlabel('True Values [pIC50]')\n",
        "plt.ylabel('Predictions [pIC50]')\n",
        "lims = [0, 60]\n",
        "plt.xlim(lims)\n",
        "plt.ylim(lims)\n",
        "_ = plt.plot(lims, lims)"
      ],
      "metadata": {
        "colab": {
          "base_uri": "https://localhost:8080/",
          "height": 472
        },
        "id": "NYm7GBqr-7A5",
        "outputId": "aa1f9d6c-ad5c-46b6-fd9c-4055d442d8ee"
      },
      "execution_count": null,
      "outputs": [
        {
          "output_type": "stream",
          "name": "stdout",
          "text": [
            "1/1 [==============================] - 0s 24ms/step\n"
          ]
        },
        {
          "output_type": "display_data",
          "data": {
            "text/plain": [
              "<Figure size 640x480 with 1 Axes>"
            ],
            "image/png": "[encoded data removed]"
          },
          "metadata": {}
        }
      ]
    },
    {
      "cell_type": "code",
      "source": [
        "# error distribution.\n",
        "error = test_predictions - test_labels\n",
        "plt.hist(error, bins = 25)\n",
        "plt.xlabel(\"Prediction Error [pIC50]\")\n",
        "_ = plt.ylabel(\"Count\")"
      ],
      "metadata": {
        "colab": {
          "base_uri": "https://localhost:8080/",
          "height": 449
        },
        "id": "QWYdJG_p_Woq",
        "outputId": "625c9b77-761d-4b1f-db71-0dc14b9bb43c"
      },
      "execution_count": null,
      "outputs": [
        {
          "output_type": "display_data",
          "data": {
            "text/plain": [
              "<Figure size 640x480 with 1 Axes>"
            ],
            "image/png": "[encoded data removed]"
          },
          "metadata": {}
        }
      ]
    },
    {
      "cell_type": "markdown",
      "source": [
        "# Save and load the model (weights)"
      ],
      "metadata": {
        "id": "_AAzIdBD_tWB"
      }
    },
    {
      "cell_type": "code",
      "source": [
        "# a. Manually save weights only (no structure will be saved)\n",
        "#################################\n",
        "\n",
        "# Save the weights\n",
        "model.save_weights('.C:/Users/iicte/Documents/gaya3/models.ckpt')\n",
        "\n",
        "# Create a new model instance\n",
        "model = build_model2_three_hidden_layers()\n",
        "\n",
        "# Restore the weights\n",
        "model.load_weights('.C:/Users/iicte/Documents/gaya3/models.ckpt')\n",
        "\n",
        "# Evaluate the model\n",
        "loss, mae, mse, mape = model.evaluate(normed_test_data, test_labels, verbose=2)\n",
        "\n",
        "print(\"Testing set Mean Abs Error: {:5.2f} pIC50\".format(mae))"
      ],
      "metadata": {
        "colab": {
          "base_uri": "https://localhost:8080/"
        },
        "id": "9-hx_f53_vfB",
        "outputId": "9d90abef-71ed-4fa6-d803-d75ed28592e5"
      },
      "execution_count": null,
      "outputs": [
        {
          "output_type": "stream",
          "name": "stdout",
          "text": [
            "1/1 - 0s - loss: 0.5071 - mae: 0.4502 - mse: 0.5071 - mape: 8.0109 - 286ms/epoch - 286ms/step\n",
            "Testing set Mean Abs Error:  0.45 pIC50\n"
          ]
        }
      ]
    }
  ]
}